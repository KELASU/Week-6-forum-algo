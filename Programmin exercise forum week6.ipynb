{
 "cells": [
  {
   "cell_type": "code",
   "execution_count": 9,
   "metadata": {},
   "outputs": [
    {
     "name": "stdout",
     "output_type": "stream",
     "text": [
      "{'gold': 550, 'pouch': ['flint', 'twine', 'gemstone'], 'backpack': ['bedroll', 'bread loaf', 'xylophone'], 'pocket': ['seashell', 'strange berry', 'lint']}\n"
     ]
    }
   ],
   "source": [
    "inventory = {\n",
    "    'gold' : 500,\n",
    "    'pouch' : ['flint','twine','gemstone'],\n",
    "    'backpack': ['xylophone','dagger','bedroll','bread loaf']\n",
    "}\n",
    "inventory['pocket'] = ['seashell','strange berry','lint']\n",
    "inventory['backpack'].sort()\n",
    "inventory['backpack'].remove('dagger')\n",
    "inventory['gold'] = inventory['gold']+ 50\n",
    "print(inventory)"
   ]
  },
  {
   "cell_type": "code",
   "execution_count": 24,
   "metadata": {},
   "outputs": [
    {
     "name": "stdout",
     "output_type": "stream",
     "text": [
      "banana\n",
      "price:  4\n",
      "stock:  0\n",
      "apple\n",
      "price:  2\n",
      "stock:  0\n",
      "orange\n",
      "price:  1.5\n",
      "stock:  0\n",
      "pear\n",
      "price:  3\n",
      "stock:  0\n",
      "0.0\n"
     ]
    }
   ],
   "source": [
    "prices = {\n",
    "    \"banana\": 4,\n",
    "    \"apple\" : 2,\n",
    "    \"orange\": 1.5,\n",
    "    \"pear\":3\n",
    "}\n",
    "stock = {\n",
    "    \"banana\":0,\n",
    "    \"apple\":0,\n",
    "    \"orange\":0,\n",
    "    \"pear\":0\n",
    "}\n",
    "total = 0\n",
    "for k in prices:\n",
    "    print(k)\n",
    "    print(\"price: \",prices[k])\n",
    "    print(\"stock: \",stock.get(k))\n",
    "    total += prices[k]*stock[k]\n",
    "\n",
    "\n",
    "print(total)"
   ]
  },
  {
   "cell_type": "code",
   "execution_count": 32,
   "metadata": {},
   "outputs": [
    {
     "name": "stdout",
     "output_type": "stream",
     "text": [
      "5.5\n"
     ]
    }
   ],
   "source": [
    "groceries = [\"banana\",\"orange\",\"apple\"]\n",
    "prices = {\n",
    "    \"banana\": 4,\n",
    "    \"apple\" : 2,\n",
    "    \"orange\": 1.5,\n",
    "    \"pear\":3\n",
    "}\n",
    "stock = {\n",
    "    \"banana\":6,\n",
    "    \"apple\":0,\n",
    "    \"orange\":32,\n",
    "    \"pear\":15\n",
    "}\n",
    "def compute_bill(list):\n",
    "    total = 0\n",
    "    for f in list:\n",
    "        price = prices[f]\n",
    "        stk = stock[f]\n",
    "        if stk > 0:\n",
    "            total += price\n",
    "        stk = stk-1\n",
    "    return total\n",
    "x = compute_bill(groceries)\n",
    "print(x)"
   ]
  },
  {
   "cell_type": "code",
   "execution_count": 5,
   "metadata": {},
   "outputs": [
    {
     "name": "stdout",
     "output_type": "stream",
     "text": [
      "Eren\n",
      "[90.0, 97.0, 75.0, 92.0]\n",
      "[88.0, 40.0, 94.0]\n",
      "[75.0, 90.0]\n",
      "Mikasa\n",
      "[100.0, 92.0, 98.0, 100.0]\n",
      "[82.0, 83.0, 91.0]\n",
      "[89.0, 97.0]\n",
      "Armin\n",
      "[0.0, 87.0, 75.0, 22.0]\n",
      "[0.0, 75.0, 78.0]\n",
      "[100.0, 100.0]\n",
      "class average:  83.87 Letter grade: B\n"
     ]
    }
   ],
   "source": [
    "eren = {\n",
    "    \"name\": \"Eren\",\n",
    "    \"homework\": [90.0,97.0,75.0,92.0],\n",
    "    \"quizzes\": [88.0,40.0,94.0],\n",
    "    \"tests\": [75.0,90.0]\n",
    "}\n",
    "mikasa = {\n",
    "    \"name\": \"Mikasa\",\n",
    "    \"homework\": [100.0, 92.0, 98.0, 100.0],\n",
    "    \"quizzes\": [82.0, 83.0, 91.0],\n",
    "    \"tests\": [89.0, 97.0]\n",
    "}\n",
    "armin = {\n",
    "    \"name\": \"Armin\",\n",
    "    \"homework\": [0.0, 87.0, 75.0, 22.0],\n",
    "    \"quizzes\": [0.0, 75.0, 78.0],\n",
    "    \"tests\": [100.0, 100.0]\n",
    "}\n",
    "students = [eren,mikasa,armin]\n",
    "\n",
    "for s in students:\n",
    "    print(s['name'])\n",
    "    print(s['homework'])\n",
    "    print(s['quizzes'])\n",
    "    print(s['tests'])\n",
    "\n",
    "def average(numbers):\n",
    "    total = float(sum(numbers))\n",
    "    average = total/len(numbers)\n",
    "    return average\n",
    "def get_average(student):\n",
    "    Homework = average(student[\"homework\"])\n",
    "    Quizzes = average(student[\"quizzes\"])\n",
    "    Tests = average(student[\"tests\"])\n",
    "    WS = 0.1*Homework + 0.3*Quizzes + 0.6*Tests\n",
    "    return WS\n",
    "def get_letter_grade(score):\n",
    "    if score > 90:\n",
    "        return \"A\"\n",
    "    elif score > 80:\n",
    "        return \"B\"\n",
    "    elif score > 70:\n",
    "        return \"C\"\n",
    "    elif score > 60:\n",
    "        return \"D\"\n",
    "    else:\n",
    "        return \"F\"\n",
    "def get_class_average(students):\n",
    "    results =[]\n",
    "    for student in students:\n",
    "        results.append(get_average(student))\n",
    "    return average(results)\n",
    "class_average = get_class_average(students)\n",
    "average_class = round (class_average,2)\n",
    "grade = get_letter_grade(average_class)\n",
    "print(\"class average: \",average_class,\"Letter grade:\" ,grade)"
   ]
  }
 ],
 "metadata": {
  "kernelspec": {
   "display_name": "Python 3.9.12 ('base')",
   "language": "python",
   "name": "python3"
  },
  "language_info": {
   "codemirror_mode": {
    "name": "ipython",
    "version": 3
   },
   "file_extension": ".py",
   "mimetype": "text/x-python",
   "name": "python",
   "nbconvert_exporter": "python",
   "pygments_lexer": "ipython3",
   "version": "3.9.12"
  },
  "orig_nbformat": 4,
  "vscode": {
   "interpreter": {
    "hash": "cabe71c3e1c744fded10953ac53c74cc66fd2726028aff48ba640e961bc5036c"
   }
  }
 },
 "nbformat": 4,
 "nbformat_minor": 2
}
